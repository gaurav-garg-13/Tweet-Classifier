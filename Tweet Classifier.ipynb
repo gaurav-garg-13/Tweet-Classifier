{
 "cells": [
  {
   "cell_type": "code",
   "execution_count": 98,
   "id": "90003152-ead1-4382-a307-87d5f9a1eb7b",
   "metadata": {},
   "outputs": [],
   "source": [
    "import pandas as pd"
   ]
  },
  {
   "cell_type": "code",
   "execution_count": 99,
   "id": "3f4ab044-c52b-4a2e-bf43-15a02ba71c6a",
   "metadata": {},
   "outputs": [],
   "source": [
    "import nltk\n",
    "import re\n",
    "from nltk.corpus import stopwords\n",
    "from nltk.stem.porter import PorterStemmer"
   ]
  },
  {
   "cell_type": "markdown",
   "id": "76dbbe88-2129-45bc-890e-a6bd92e3bfef",
   "metadata": {},
   "source": [
    "## Before Creating Cleaned Train.csv"
   ]
  },
  {
   "cell_type": "code",
   "execution_count": 51,
   "id": "2d7bc2d0-f848-4e04-b454-41b4661a4c87",
   "metadata": {},
   "outputs": [],
   "source": [
    "train = pd.read_csv('train.csv')"
   ]
  },
  {
   "cell_type": "code",
   "execution_count": 64,
   "id": "8456ea9d-42de-4469-ab55-67bf8540c488",
   "metadata": {},
   "outputs": [
    {
     "data": {
      "text/html": [
       "<div>\n",
       "<style scoped>\n",
       "    .dataframe tbody tr th:only-of-type {\n",
       "        vertical-align: middle;\n",
       "    }\n",
       "\n",
       "    .dataframe tbody tr th {\n",
       "        vertical-align: top;\n",
       "    }\n",
       "\n",
       "    .dataframe thead th {\n",
       "        text-align: right;\n",
       "    }\n",
       "</style>\n",
       "<table border=\"1\" class=\"dataframe\">\n",
       "  <thead>\n",
       "    <tr style=\"text-align: right;\">\n",
       "      <th></th>\n",
       "      <th>label</th>\n",
       "      <th>tweet</th>\n",
       "    </tr>\n",
       "  </thead>\n",
       "  <tbody>\n",
       "    <tr>\n",
       "      <th>26756</th>\n",
       "      <td>0</td>\n",
       "      <td>literally geeking so hard over this @user sche...</td>\n",
       "    </tr>\n",
       "    <tr>\n",
       "      <th>5710</th>\n",
       "      <td>0</td>\n",
       "      <td>thank you, pinee!   #yehey #goodnews</td>\n",
       "    </tr>\n",
       "    <tr>\n",
       "      <th>14831</th>\n",
       "      <td>0</td>\n",
       "      <td>beautiful wedding in temecula. #photobooth #dj...</td>\n",
       "    </tr>\n",
       "    <tr>\n",
       "      <th>15061</th>\n",
       "      <td>1</td>\n",
       "      <td>wew i only know they are diff couples when i l...</td>\n",
       "    </tr>\n",
       "    <tr>\n",
       "      <th>3706</th>\n",
       "      <td>0</td>\n",
       "      <td>life is better with a tan ðð»ð #nofile...</td>\n",
       "    </tr>\n",
       "    <tr>\n",
       "      <th>26409</th>\n",
       "      <td>0</td>\n",
       "      <td>now playing  :  rick wakeman - \" the lone sail...</td>\n",
       "    </tr>\n",
       "    <tr>\n",
       "      <th>28796</th>\n",
       "      <td>1</td>\n",
       "      <td>finally!!! action!!! @user @user #catdjt #ther...</td>\n",
       "    </tr>\n",
       "    <tr>\n",
       "      <th>25976</th>\n",
       "      <td>0</td>\n",
       "      <td>so excited to be setting up my own business ve...</td>\n",
       "    </tr>\n",
       "    <tr>\n",
       "      <th>25973</th>\n",
       "      <td>0</td>\n",
       "      <td>thoughts and prayers to her familie and friend...</td>\n",
       "    </tr>\n",
       "    <tr>\n",
       "      <th>25398</th>\n",
       "      <td>0</td>\n",
       "      <td>@user je relate soo badly! msaken they just ha...</td>\n",
       "    </tr>\n",
       "  </tbody>\n",
       "</table>\n",
       "</div>"
      ],
      "text/plain": [
       "       label                                              tweet\n",
       "26756      0  literally geeking so hard over this @user sche...\n",
       "5710       0              thank you, pinee!   #yehey #goodnews \n",
       "14831      0  beautiful wedding in temecula. #photobooth #dj...\n",
       "15061      1  wew i only know they are diff couples when i l...\n",
       "3706       0  life is better with a tan ðð»ð #nofile...\n",
       "26409      0  now playing  :  rick wakeman - \" the lone sail...\n",
       "28796      1  finally!!! action!!! @user @user #catdjt #ther...\n",
       "25976      0  so excited to be setting up my own business ve...\n",
       "25973      0  thoughts and prayers to her familie and friend...\n",
       "25398      0  @user je relate soo badly! msaken they just ha..."
      ]
     },
     "execution_count": 64,
     "metadata": {},
     "output_type": "execute_result"
    }
   ],
   "source": [
    "train.iloc[:,1:].sample(10)"
   ]
  },
  {
   "cell_type": "code",
   "execution_count": 58,
   "id": "a33a35eb-eada-4c74-a5df-20d8597aaf82",
   "metadata": {},
   "outputs": [
    {
     "data": {
      "text/plain": [
       "31962"
      ]
     },
     "execution_count": 58,
     "metadata": {},
     "output_type": "execute_result"
    }
   ],
   "source": [
    "len(train)"
   ]
  },
  {
   "cell_type": "code",
   "execution_count": 5,
   "id": "1bdf2aef-417e-4df4-89ab-767ebaee6b9d",
   "metadata": {},
   "outputs": [],
   "source": [
    "X = train['tweet']\n",
    "y = train['label']"
   ]
  },
  {
   "cell_type": "code",
   "execution_count": 9,
   "id": "dc675bbc-26ee-44bf-9a2d-1bf03b02958a",
   "metadata": {},
   "outputs": [
    {
     "data": {
      "text/plain": [
       "31962"
      ]
     },
     "execution_count": 9,
     "metadata": {},
     "output_type": "execute_result"
    }
   ],
   "source": [
    "len(corpus)"
   ]
  },
  {
   "cell_type": "code",
   "execution_count": 8,
   "id": "37abaa53-d61a-4bde-8715-e858f0b67328",
   "metadata": {},
   "outputs": [
    {
     "name": "stdout",
     "output_type": "stream",
     "text": [
      "31961\r"
     ]
    }
   ],
   "source": [
    "ps = PorterStemmer()\n",
    "corpus = []\n",
    "for i in range(0, len(X)):\n",
    "    print(i,end = '\\r')\n",
    "    review = re.sub('[^a-zA-Z]', ' ', X[i])\n",
    "    review = review.lower()\n",
    "    review = review.split()\n",
    "    \n",
    "    review = [ps.stem(word) for word in review if not word in stopwords.words('english')]\n",
    "    review = ' '.join(review)\n",
    "    corpus.append(review)"
   ]
  },
  {
   "cell_type": "code",
   "execution_count": 21,
   "id": "8b1ca7fa-b2a0-48bd-a1d3-439393ef6f44",
   "metadata": {},
   "outputs": [
    {
     "data": {
      "text/html": [
       "<div>\n",
       "<style scoped>\n",
       "    .dataframe tbody tr th:only-of-type {\n",
       "        vertical-align: middle;\n",
       "    }\n",
       "\n",
       "    .dataframe tbody tr th {\n",
       "        vertical-align: top;\n",
       "    }\n",
       "\n",
       "    .dataframe thead th {\n",
       "        text-align: right;\n",
       "    }\n",
       "</style>\n",
       "<table border=\"1\" class=\"dataframe\">\n",
       "  <thead>\n",
       "    <tr style=\"text-align: right;\">\n",
       "      <th></th>\n",
       "      <th>0</th>\n",
       "      <th>label</th>\n",
       "    </tr>\n",
       "  </thead>\n",
       "  <tbody>\n",
       "    <tr>\n",
       "      <th>0</th>\n",
       "      <td>user father dysfunct selfish drag kid dysfunct...</td>\n",
       "      <td>0</td>\n",
       "    </tr>\n",
       "    <tr>\n",
       "      <th>1</th>\n",
       "      <td>user user thank lyft credit use caus offer whe...</td>\n",
       "      <td>0</td>\n",
       "    </tr>\n",
       "    <tr>\n",
       "      <th>2</th>\n",
       "      <td>bihday majesti</td>\n",
       "      <td>0</td>\n",
       "    </tr>\n",
       "    <tr>\n",
       "      <th>3</th>\n",
       "      <td>model love u take u time ur</td>\n",
       "      <td>0</td>\n",
       "    </tr>\n",
       "    <tr>\n",
       "      <th>4</th>\n",
       "      <td>factsguid societi motiv</td>\n",
       "      <td>0</td>\n",
       "    </tr>\n",
       "  </tbody>\n",
       "</table>\n",
       "</div>"
      ],
      "text/plain": [
       "                                                   0  label\n",
       "0  user father dysfunct selfish drag kid dysfunct...      0\n",
       "1  user user thank lyft credit use caus offer whe...      0\n",
       "2                                     bihday majesti      0\n",
       "3                        model love u take u time ur      0\n",
       "4                            factsguid societi motiv      0"
      ]
     },
     "execution_count": 21,
     "metadata": {},
     "output_type": "execute_result"
    }
   ],
   "source": [
    "cleaned_text = pd.DataFrame(corpus)\n",
    "final = cleaned_text.join(y)\n",
    "final.head()"
   ]
  },
  {
   "cell_type": "code",
   "execution_count": 23,
   "id": "e9f056d5-f141-4290-ab90-a44d3a6d4d05",
   "metadata": {},
   "outputs": [],
   "source": [
    "final.to_csv('Cleaned_train_data.csv',index = False)"
   ]
  },
  {
   "cell_type": "code",
   "execution_count": 24,
   "id": "4b9db4c4-9f04-42da-8180-89ef2beaddf7",
   "metadata": {},
   "outputs": [
    {
     "data": {
      "text/plain": [
       "1613759"
      ]
     },
     "execution_count": 24,
     "metadata": {},
     "output_type": "execute_result"
    }
   ],
   "source": [
    "corp_len = 0\n",
    "for i in corpus:\n",
    "    corp_len+=len(i)\n",
    "corp_len"
   ]
  },
  {
   "cell_type": "code",
   "execution_count": 25,
   "id": "4a4cd65d-d1b1-4cbe-887a-641a12380eea",
   "metadata": {},
   "outputs": [
    {
     "data": {
      "text/plain": [
       "50.48992553657468"
      ]
     },
     "execution_count": 25,
     "metadata": {},
     "output_type": "execute_result"
    }
   ],
   "source": [
    "corp_len/len(corpus)"
   ]
  },
  {
   "cell_type": "markdown",
   "id": "2322c99f-4800-42cc-ba25-7ce4b2b161ef",
   "metadata": {},
   "source": [
    "## After Creating Cleaned train data file"
   ]
  },
  {
   "cell_type": "code",
   "execution_count": 100,
   "id": "2e27442e-acd4-4f9a-b825-20023d758502",
   "metadata": {},
   "outputs": [],
   "source": [
    "data = pd.read_csv('Cleaned_train_data.csv')"
   ]
  },
  {
   "cell_type": "code",
   "execution_count": 101,
   "id": "75cb085e-a38e-44e5-9722-101ed60471c5",
   "metadata": {},
   "outputs": [
    {
     "data": {
      "text/plain": [
       "31962"
      ]
     },
     "execution_count": 101,
     "metadata": {},
     "output_type": "execute_result"
    }
   ],
   "source": [
    "len(data)"
   ]
  },
  {
   "cell_type": "code",
   "execution_count": 102,
   "id": "214da0a0-466c-4218-8774-bf98f542b05b",
   "metadata": {},
   "outputs": [
    {
     "data": {
      "text/plain": [
       "0        13\n",
       "label     0\n",
       "dtype: int64"
      ]
     },
     "execution_count": 102,
     "metadata": {},
     "output_type": "execute_result"
    }
   ],
   "source": [
    "data.isna().sum()"
   ]
  },
  {
   "cell_type": "code",
   "execution_count": 103,
   "id": "0e5b0e5f-5ed7-4e45-b317-88095f3dec7e",
   "metadata": {},
   "outputs": [],
   "source": [
    "data = data.dropna()"
   ]
  },
  {
   "cell_type": "code",
   "execution_count": 104,
   "id": "f07ce3e9-8ba6-4c93-9101-068204289245",
   "metadata": {},
   "outputs": [
    {
     "data": {
      "text/plain": [
       "31949"
      ]
     },
     "execution_count": 104,
     "metadata": {},
     "output_type": "execute_result"
    }
   ],
   "source": [
    "len(data)"
   ]
  },
  {
   "cell_type": "code",
   "execution_count": 105,
   "id": "f34f79cf-1ba7-4b15-9245-4f7a42687b8c",
   "metadata": {},
   "outputs": [
    {
     "data": {
      "text/plain": [
       "0    0\n",
       "1    0\n",
       "2    0\n",
       "3    0\n",
       "4    0\n",
       "Name: label, dtype: int64"
      ]
     },
     "execution_count": 105,
     "metadata": {},
     "output_type": "execute_result"
    }
   ],
   "source": [
    "y = data['label']\n",
    "y.head()"
   ]
  },
  {
   "cell_type": "code",
   "execution_count": 106,
   "id": "97e01203-a9e9-48b6-b470-4217477eccaf",
   "metadata": {},
   "outputs": [],
   "source": [
    "X = data['0']\n",
    "X = X.values"
   ]
  },
  {
   "cell_type": "code",
   "execution_count": 107,
   "id": "b8d8dc17-6eca-4bd7-822f-40c60c9a1442",
   "metadata": {},
   "outputs": [
    {
     "name": "stdout",
     "output_type": "stream",
     "text": [
      "31948\r"
     ]
    }
   ],
   "source": [
    "corpus = []\n",
    "for i in range(len(X)):\n",
    "    review = re.sub('[^a-zA-Z]', ' ', X[i])\n",
    "    review = review.lower()\n",
    "    corpus.append(review)\n",
    "    print(i,end = '\\r')"
   ]
  },
  {
   "cell_type": "markdown",
   "id": "df6b4be9-78ee-4357-9dc0-cc2f00da04f0",
   "metadata": {},
   "source": [
    "# Test Models"
   ]
  },
  {
   "cell_type": "code",
   "execution_count": 108,
   "id": "b2db4cbe-3a4b-41c4-ae32-26e7cb1dd29e",
   "metadata": {},
   "outputs": [
    {
     "data": {
      "text/plain": [
       "((31949, 50), (31949, 50))"
      ]
     },
     "execution_count": 108,
     "metadata": {},
     "output_type": "execute_result"
    }
   ],
   "source": [
    "from sklearn.feature_extraction.text import CountVectorizer\n",
    "from sklearn.feature_extraction.text import TfidfVectorizer\n",
    "cv = CountVectorizer(max_features = 50)\n",
    "tfidf = TfidfVectorizer(max_features = 50)\n",
    "X_cv = cv.fit_transform(corpus).toarray()\n",
    "X_tfidf = tfidf.fit_transform(corpus).toarray()\n",
    "X_cv.shape, X_tfidf.shape"
   ]
  },
  {
   "cell_type": "code",
   "execution_count": 109,
   "id": "c4c07c85-fe99-472d-9211-0df9db340a11",
   "metadata": {},
   "outputs": [],
   "source": [
    "from sklearn.model_selection import train_test_split\n",
    "from sklearn.naive_bayes import MultinomialNB\n",
    "from sklearn.metrics import confusion_matrix\n",
    "from sklearn.metrics import accuracy_score\n",
    "\n",
    "def assembled(X,y):\n",
    "    X_train,X_test,y_train,y_test = train_test_split(X,y,test_size = 0.25,random_state = 0)\n",
    "    model = MultinomialNB().fit(X_train, y_train)\n",
    "    y_pred = model.predict(X_test)\n",
    "    confusion_m = confusion_matrix(y_test,y_pred)\n",
    "    print(confusion_matrix(y_test,y_pred))\n",
    "    precision = round(confusion_m[0][0]/sum(confusion_m[0]),3)\n",
    "    print('Precision: ', precision)\n",
    "    recall = round(confusion_m[0][0]/(confusion_m[0][0]+confusion_m[1][0]),3)\n",
    "    print('Recall: ', recall)\n",
    "    accuracy = round(accuracy_score(y_test,y_pred),3)\n",
    "    print('Accuracy: ', accuracy)\n",
    "    \n",
    "    return (precision,recall,accuracy)\n",
    "\n",
    "X = [X_cv,X_tfidf]\n",
    "title = ['Count Vectorizer','TF-IDF']\n",
    "Y = []"
   ]
  },
  {
   "cell_type": "code",
   "execution_count": 110,
   "id": "72445529-163e-4f91-97a5-c3ef939e051d",
   "metadata": {},
   "outputs": [
    {
     "name": "stdout",
     "output_type": "stream",
     "text": [
      "Count Vectorizer\n",
      "[[7284  146]\n",
      " [ 534   24]]\n",
      "Precision:  0.98\n",
      "Recall:  0.932\n",
      "Accuracy:  0.915\n",
      "\n",
      "\n",
      "\n",
      "TF-IDF\n",
      "[[7430    0]\n",
      " [ 558    0]]\n",
      "Precision:  1.0\n",
      "Recall:  0.93\n",
      "Accuracy:  0.93\n",
      "\n",
      "\n",
      "\n"
     ]
    }
   ],
   "source": [
    "for i in range(len(X)):\n",
    "    print(title[i])\n",
    "    temp = assembled(X[i],y)\n",
    "    Y.append(temp)\n",
    "    print('\\n\\n')"
   ]
  },
  {
   "cell_type": "code",
   "execution_count": null,
   "id": "065044f0-0a68-4d90-a188-6f244b4473f4",
   "metadata": {},
   "outputs": [],
   "source": []
  },
  {
   "cell_type": "markdown",
   "id": "c3396325-cf65-415a-b56e-9ecc564c8376",
   "metadata": {},
   "source": [
    "## Model Creation"
   ]
  },
  {
   "cell_type": "code",
   "execution_count": 22,
   "id": "69fe308c-9aee-4d40-b0a2-95e4dce42a1e",
   "metadata": {},
   "outputs": [],
   "source": [
    "import tensorflow as tf\n",
    "from tensorflow.keras.layers import Embedding\n",
    "from tensorflow.keras.preprocessing.sequence import pad_sequences\n",
    "from tensorflow.keras.models import Sequential\n",
    "from tensorflow.keras.preprocessing.text import one_hot\n",
    "from tensorflow.keras.layers import LSTM\n",
    "from tensorflow.keras.layers import Dense\n",
    "from tensorflow.keras.layers import Dropout\n",
    "import numpy as np\n",
    "from sklearn.model_selection import train_test_split\n"
   ]
  },
  {
   "cell_type": "code",
   "execution_count": 8,
   "id": "6f080fdc-96b2-4237-9207-0a550996d193",
   "metadata": {},
   "outputs": [
    {
     "data": {
      "text/plain": [
       "\"gpus = tf.config.experimental.list_physical_devices('GPU')\\nfor gpu in gpus:\\n    tf.config.experimental.set_memory_growth(gpu,)\""
      ]
     },
     "execution_count": 8,
     "metadata": {},
     "output_type": "execute_result"
    }
   ],
   "source": [
    "'''gpus = tf.config.experimental.list_physical_devices('GPU')\n",
    "for gpu in gpus:\n",
    "    tf.config.experimental.set_memory_growth(gpu,)'''"
   ]
  },
  {
   "cell_type": "code",
   "execution_count": 9,
   "id": "2ed4a41c-5a76-477f-b614-8e3d73c740c6",
   "metadata": {},
   "outputs": [
    {
     "data": {
      "text/plain": [
       "[PhysicalDevice(name='/physical_device:GPU:0', device_type='GPU')]"
      ]
     },
     "execution_count": 9,
     "metadata": {},
     "output_type": "execute_result"
    }
   ],
   "source": [
    "tf.config.list_physical_devices('GPU')"
   ]
  },
  {
   "cell_type": "code",
   "execution_count": 23,
   "id": "237ee3a9-03db-4edc-b612-3db66cc73838",
   "metadata": {},
   "outputs": [],
   "source": [
    "voc_size = 50000"
   ]
  },
  {
   "cell_type": "code",
   "execution_count": 24,
   "id": "50cd1be1-8cc4-4c7a-9952-9ebcc9e521e5",
   "metadata": {},
   "outputs": [],
   "source": [
    "onehot_repr=[one_hot(word,voc_size)for word in corpus]"
   ]
  },
  {
   "cell_type": "code",
   "execution_count": 25,
   "id": "94ec52ea-3437-472e-a220-89e0fd9496ed",
   "metadata": {},
   "outputs": [
    {
     "name": "stdout",
     "output_type": "stream",
     "text": [
      "[[    0     0     0 ... 26956 46528 48158]\n",
      " [    0     0     0 ... 42906  3972 24917]\n",
      " [    0     0     0 ...     0 15052 15325]\n",
      " ...\n",
      " [    0     0     0 ... 37681 43048 12703]\n",
      " [    0     0     0 ... 15106 33110 13994]\n",
      " [    0     0     0 ... 36371 28555 22932]]\n"
     ]
    }
   ],
   "source": [
    "sent_length=30\n",
    "embedded_docs=pad_sequences(onehot_repr,padding='pre',maxlen=sent_length)\n",
    "print(embedded_docs)"
   ]
  },
  {
   "cell_type": "code",
   "execution_count": 76,
   "id": "38a9e498-67bd-4481-b36b-9f4cd7f17ef1",
   "metadata": {},
   "outputs": [],
   "source": [
    "## Creating model\n",
    "embedding_vector_features=64\n",
    "model=Sequential()\n",
    "model.add(Embedding(voc_size,embedding_vector_features,input_length=sent_length))\n",
    "model.add(Dropout(0.7))\n",
    "model.add(LSTM(50,return_sequences = True))\n",
    "model.add(Dropout(0.7))\n",
    "model.add(LSTM(128))\n",
    "model.add(Dropout(0.7))\n",
    "model.add(Dense(1,activation='sigmoid'))\n",
    "model.compile(loss='binary_crossentropy',optimizer='adam',metrics=['accuracy'])\n"
   ]
  },
  {
   "cell_type": "code",
   "execution_count": 77,
   "id": "3fbf7045-86e4-4a56-990d-ffa157381347",
   "metadata": {},
   "outputs": [
    {
     "name": "stdout",
     "output_type": "stream",
     "text": [
      "Model: \"sequential_5\"\n",
      "_________________________________________________________________\n",
      " Layer (type)                Output Shape              Param #   \n",
      "=================================================================\n",
      " embedding_5 (Embedding)     (None, 30, 64)            3200000   \n",
      "                                                                 \n",
      " dropout_15 (Dropout)        (None, 30, 64)            0         \n",
      "                                                                 \n",
      " lstm_10 (LSTM)              (None, 30, 50)            23000     \n",
      "                                                                 \n",
      " dropout_16 (Dropout)        (None, 30, 50)            0         \n",
      "                                                                 \n",
      " lstm_11 (LSTM)              (None, 128)               91648     \n",
      "                                                                 \n",
      " dropout_17 (Dropout)        (None, 128)               0         \n",
      "                                                                 \n",
      " dense_5 (Dense)             (None, 1)                 129       \n",
      "                                                                 \n",
      "=================================================================\n",
      "Total params: 3,314,777\n",
      "Trainable params: 3,314,777\n",
      "Non-trainable params: 0\n",
      "_________________________________________________________________\n"
     ]
    }
   ],
   "source": [
    "model.summary()"
   ]
  },
  {
   "cell_type": "code",
   "execution_count": 78,
   "id": "e5026585-dca4-412d-8eb5-7ec6ed035771",
   "metadata": {},
   "outputs": [
    {
     "data": {
      "text/plain": [
       "(31949, (31949,))"
      ]
     },
     "execution_count": 78,
     "metadata": {},
     "output_type": "execute_result"
    }
   ],
   "source": [
    "len(embedded_docs),y.shape"
   ]
  },
  {
   "cell_type": "code",
   "execution_count": 79,
   "id": "a53a53ae-ebca-40da-a445-c929e904e71c",
   "metadata": {},
   "outputs": [],
   "source": [
    "X_final=np.array(embedded_docs)\n",
    "y_final=np.array(y)"
   ]
  },
  {
   "cell_type": "code",
   "execution_count": 80,
   "id": "ee86cb12-6c51-4dad-947d-d3a336c6911f",
   "metadata": {},
   "outputs": [
    {
     "data": {
      "text/plain": [
       "((31949, 30), (31949,))"
      ]
     },
     "execution_count": 80,
     "metadata": {},
     "output_type": "execute_result"
    }
   ],
   "source": [
    "X_final.shape,y_final.shape"
   ]
  },
  {
   "cell_type": "code",
   "execution_count": 81,
   "id": "9695a61d-bc2c-4b01-9c20-ce7319af7c7c",
   "metadata": {},
   "outputs": [],
   "source": [
    "X_train, X_test, y_train, y_test = train_test_split(X_final, y_final, stratify = y_final, test_size=0.25, random_state=42)\n",
    "X_test, X_val, y_test, y_val = train_test_split(X_test, y_test, stratify = y_test, test_size=0.5, random_state=42)"
   ]
  },
  {
   "cell_type": "code",
   "execution_count": 82,
   "id": "8492b8eb-7f42-4564-a175-29d41588a3be",
   "metadata": {},
   "outputs": [
    {
     "name": "stdout",
     "output_type": "stream",
     "text": [
      "Epoch 1/8\n",
      "24/24 [==============================] - 5s 84ms/step - loss: 0.3917 - accuracy: 0.9070 - val_loss: 0.2596 - val_accuracy: 0.9299\n",
      "Epoch 2/8\n",
      "24/24 [==============================] - 1s 36ms/step - loss: 0.2617 - accuracy: 0.9299 - val_loss: 0.2492 - val_accuracy: 0.9299\n",
      "Epoch 3/8\n",
      "24/24 [==============================] - 1s 34ms/step - loss: 0.2499 - accuracy: 0.9299 - val_loss: 0.2272 - val_accuracy: 0.9299\n",
      "Epoch 4/8\n",
      "24/24 [==============================] - 1s 34ms/step - loss: 0.1864 - accuracy: 0.9367 - val_loss: 0.1580 - val_accuracy: 0.9419\n",
      "Epoch 5/8\n",
      "24/24 [==============================] - 1s 35ms/step - loss: 0.1210 - accuracy: 0.9587 - val_loss: 0.1339 - val_accuracy: 0.9554\n",
      "Epoch 6/8\n",
      "24/24 [==============================] - 1s 35ms/step - loss: 0.0956 - accuracy: 0.9664 - val_loss: 0.1293 - val_accuracy: 0.9574\n",
      "Epoch 7/8\n",
      "24/24 [==============================] - 1s 34ms/step - loss: 0.0802 - accuracy: 0.9727 - val_loss: 0.1333 - val_accuracy: 0.9597\n",
      "Epoch 8/8\n",
      "24/24 [==============================] - 1s 35ms/step - loss: 0.0676 - accuracy: 0.9764 - val_loss: 0.1362 - val_accuracy: 0.9579\n"
     ]
    }
   ],
   "source": [
    "model_history = model.fit(X_train,y_train,validation_data=(X_val,y_val),epochs=8,batch_size=1000)"
   ]
  },
  {
   "cell_type": "code",
   "execution_count": 83,
   "id": "3a5140fc-2301-451e-b243-25cd964af579",
   "metadata": {},
   "outputs": [],
   "source": [
    "from sklearn.metrics import confusion_matrix\n",
    "from sklearn.metrics import ConfusionMatrixDisplay\n",
    "import matplotlib.pyplot as plt\n",
    "from sklearn.metrics import accuracy_score\n",
    "from sklearn.metrics import roc_curve, roc_auc_score"
   ]
  },
  {
   "cell_type": "code",
   "execution_count": 84,
   "id": "8d00f932-08cc-411e-bb0b-aca54c47caae",
   "metadata": {},
   "outputs": [
    {
     "name": "stdout",
     "output_type": "stream",
     "text": [
      "125/125 [==============================] - 2s 7ms/step\n"
     ]
    }
   ],
   "source": [
    "y_pred=model.predict(X_test)"
   ]
  },
  {
   "cell_type": "markdown",
   "id": "10071a4c-e773-49d1-b0c9-6631b9adf43d",
   "metadata": {},
   "source": [
    "### ROC Curve"
   ]
  },
  {
   "cell_type": "code",
   "execution_count": 85,
   "id": "cedfbf44-4a22-4702-bc34-09d688a98ac1",
   "metadata": {},
   "outputs": [],
   "source": [
    "false_positive_rate, true_positive_rate, threshold = roc_curve(y_test, y_pred)"
   ]
  },
  {
   "cell_type": "code",
   "execution_count": 86,
   "id": "226a4a02-46b2-40e5-a77f-677c507572c2",
   "metadata": {},
   "outputs": [
    {
     "data": {
      "image/png": "[encoded data removed]",
      "text/plain": [
       "<Figure size 500x500 with 1 Axes>"
      ]
     },
     "metadata": {},
     "output_type": "display_data"
    }
   ],
   "source": [
    "plt.subplots(1, figsize=(5,5))\n",
    "plt.title('Receiver Operating Characteristic')\n",
    "plt.plot(false_positive_rate, true_positive_rate)\n",
    "plt.plot([0, 1], ls=\"--\")\n",
    "plt.plot([0, 0], [1, 0] , c=\".7\"), plt.plot([1, 1] , c=\".7\")\n",
    "plt.ylabel('True Positive Rate')\n",
    "plt.xlabel('False Positive Rate')\n",
    "plt.show()"
   ]
  },
  {
   "cell_type": "code",
   "execution_count": 87,
   "id": "3a01f5e9-0329-4c31-b78d-56ab83d06fd0",
   "metadata": {},
   "outputs": [
    {
     "name": "stdout",
     "output_type": "stream",
     "text": [
      "roc_auc_score:  0.9507596738210631\n"
     ]
    }
   ],
   "source": [
    "print('roc_auc_score: ', roc_auc_score(y_test, y_pred))"
   ]
  },
  {
   "cell_type": "code",
   "execution_count": 88,
   "id": "8d52d846-c14f-4674-b47f-e9d3b65c4ef3",
   "metadata": {},
   "outputs": [
    {
     "name": "stdout",
     "output_type": "stream",
     "text": [
      "dict_keys(['loss', 'accuracy', 'val_loss', 'val_accuracy'])\n"
     ]
    }
   ],
   "source": [
    "print(model_history.history.keys())"
   ]
  },
  {
   "cell_type": "code",
   "execution_count": 89,
   "id": "bf1d1bbd-31ec-46af-bfb2-2d4633d35d8b",
   "metadata": {},
   "outputs": [
    {
     "data": {
      "image/png": "[encoded data removed]",
      "text/plain": [
       "<Figure size 640x480 with 1 Axes>"
      ]
     },
     "metadata": {},
     "output_type": "display_data"
    }
   ],
   "source": [
    "plt.plot(model_history.history['accuracy'])\n",
    "plt.plot(model_history.history['val_accuracy'])\n",
    "plt.title('Model accuracy')\n",
    "plt.ylabel('accuracy')\n",
    "plt.xlabel('epoch')\n",
    "plt.legend(['train','val'],loc='upper left')\n",
    "plt.show()"
   ]
  },
  {
   "cell_type": "code",
   "execution_count": 90,
   "id": "3ef0bf47-50b2-4559-9f97-efc5ab2ad1b9",
   "metadata": {},
   "outputs": [
    {
     "data": {
      "image/png": "[encoded data removed]",
      "text/plain": [
       "<Figure size 640x480 with 1 Axes>"
      ]
     },
     "metadata": {},
     "output_type": "display_data"
    }
   ],
   "source": [
    "plt.plot(model_history.history['loss'])\n",
    "plt.plot(model_history.history['val_loss'])\n",
    "plt.title('Model loss')\n",
    "plt.ylabel('loss')\n",
    "plt.xlabel('epoch')\n",
    "plt.legend(['train','val'],loc='upper left')\n",
    "plt.show()"
   ]
  },
  {
   "cell_type": "markdown",
   "id": "04a88713-b21e-4546-8fa0-f354293b40f7",
   "metadata": {},
   "source": [
    "### Predicting Values"
   ]
  },
  {
   "cell_type": "code",
   "execution_count": 94,
   "id": "6771784a-c816-4f43-9559-33bfef29b608",
   "metadata": {},
   "outputs": [],
   "source": [
    "y_ = [1 if x>0.4 else 0 for x in y_pred]"
   ]
  },
  {
   "cell_type": "code",
   "execution_count": 95,
   "id": "0fe7855c-27d6-43b2-a2e1-5d5759fb051c",
   "metadata": {},
   "outputs": [
    {
     "data": {
      "text/plain": [
       "array([[3624,   90],\n",
       "       [  86,  194]], dtype=int64)"
      ]
     },
     "execution_count": 95,
     "metadata": {},
     "output_type": "execute_result"
    }
   ],
   "source": [
    "cm = confusion_matrix(y_test,y_)\n",
    "cm"
   ]
  },
  {
   "cell_type": "code",
   "execution_count": 96,
   "id": "1e2acea6-9743-479d-8650-884243dbd418",
   "metadata": {},
   "outputs": [
    {
     "data": {
      "image/png": "[encoded data removed]",
      "text/plain": [
       "<Figure size 640x480 with 2 Axes>"
      ]
     },
     "metadata": {},
     "output_type": "display_data"
    }
   ],
   "source": [
    "cm_display = ConfusionMatrixDisplay(confusion_matrix = cm, display_labels = [False, True])\n",
    "cm_display.plot()\n",
    "plt.show()"
   ]
  },
  {
   "cell_type": "code",
   "execution_count": 114,
   "id": "ff17428c-d042-4814-9285-9a1c976f1535",
   "metadata": {},
   "outputs": [
    {
     "name": "stdout",
     "output_type": "stream",
     "text": [
      "Precision:  0.9758\n",
      "Recall:  0.9768\n"
     ]
    }
   ],
   "source": [
    "precision = round(cm[0][0]/sum(cm[0]),4)\n",
    "print('Precision: ', precision)\n",
    "recall = round(cm[0][0]/(cm[0][0]+cm[1][0]),4)\n",
    "print('Recall: ', recall)"
   ]
  },
  {
   "cell_type": "code",
   "execution_count": 97,
   "id": "4db8397c-aeb0-449f-9e6a-7e6ff938343d",
   "metadata": {},
   "outputs": [
    {
     "data": {
      "text/plain": [
       "0.9559339008512769"
      ]
     },
     "execution_count": 97,
     "metadata": {},
     "output_type": "execute_result"
    }
   ],
   "source": [
    "accuracy_score(y_test,y_)"
   ]
  },
  {
   "cell_type": "code",
   "execution_count": 143,
   "id": "22dc685a-7f84-4946-b738-3133d86cd45f",
   "metadata": {},
   "outputs": [],
   "source": [
    "model.save('finalized_model.h5')"
   ]
  },
  {
   "cell_type": "code",
   "execution_count": 145,
   "id": "965660fc-448b-4b6c-9f44-d32403d6447c",
   "metadata": {},
   "outputs": [],
   "source": [
    "import keras"
   ]
  },
  {
   "cell_type": "code",
   "execution_count": 146,
   "id": "e216a56b-673a-434a-a4d0-591352aeba5e",
   "metadata": {},
   "outputs": [],
   "source": [
    "loaded_model = keras.models.load_model('finalized_model.h5')"
   ]
  },
  {
   "cell_type": "code",
   "execution_count": 150,
   "id": "b5ce3c37-92a1-4130-8904-a6b2b92040ed",
   "metadata": {},
   "outputs": [
    {
     "name": "stdout",
     "output_type": "stream",
     "text": [
      "125/125 [==============================] - 1s 7ms/step\n"
     ]
    }
   ],
   "source": [
    "y_new=loaded_model.predict(X_test)"
   ]
  },
  {
   "cell_type": "code",
   "execution_count": 151,
   "id": "dadae3af-37f6-457c-a1bc-ded1587036f2",
   "metadata": {},
   "outputs": [],
   "source": [
    "y_ = [1 if x>0.5 else 0 for x in y_new]"
   ]
  },
  {
   "cell_type": "code",
   "execution_count": 152,
   "id": "6371df7c-66a1-402e-94e8-86b9e2c9ad04",
   "metadata": {},
   "outputs": [
    {
     "data": {
      "text/plain": [
       "array([[3637,   77],\n",
       "       [  85,  195]], dtype=int64)"
      ]
     },
     "execution_count": 152,
     "metadata": {},
     "output_type": "execute_result"
    }
   ],
   "source": [
    "cm = confusion_matrix(y_test,y_)\n",
    "cm"
   ]
  },
  {
   "cell_type": "code",
   "execution_count": 153,
   "id": "5d40c55f-31e1-4d7b-b54c-6e52c45546bc",
   "metadata": {},
   "outputs": [
    {
     "data": {
      "text/plain": [
       "array([[     0,      0,      0, ..., 167192,  46040, 382868],\n",
       "       [     0,      0,      0, ..., 410092, 439547,  63193],\n",
       "       [     0,      0,      0, ..., 223988, 489796, 356651],\n",
       "       ...,\n",
       "       [     0,      0,      0, ..., 477944,  66203, 226917],\n",
       "       [     0,      0,      0, ...,  66679,   8607, 150125],\n",
       "       [     0,      0,      0, ..., 109994,  69315, 313573]])"
      ]
     },
     "execution_count": 153,
     "metadata": {},
     "output_type": "execute_result"
    }
   ],
   "source": [
    "X_test"
   ]
  }
 ],
 "metadata": {
  "kernelspec": {
   "display_name": "nlpvenv",
   "language": "python",
   "name": "nlpvenv"
  },
  "language_info": {
   "codemirror_mode": {
    "name": "ipython",
    "version": 3
   },
   "file_extension": ".py",
   "mimetype": "text/x-python",
   "name": "python",
   "nbconvert_exporter": "python",
   "pygments_lexer": "ipython3",
   "version": "3.9.13"
  }
 },
 "nbformat": 4,
 "nbformat_minor": 5
}
