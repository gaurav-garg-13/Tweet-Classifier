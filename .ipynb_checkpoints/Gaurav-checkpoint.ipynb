{
 "cells": [
  {
   "cell_type": "markdown",
   "id": "4c448021-0e03-4f0d-b6a8-e7b030f58452",
   "metadata": {},
   "source": [
    "## Data Loading and Cleaning"
   ]
  },
  {
   "cell_type": "code",
   "execution_count": 1,
   "id": "6a3ce638-f339-4415-bc17-a5ce0f97aee1",
   "metadata": {},
   "outputs": [],
   "source": [
    "import pandas as pd\n",
    "import nltk\n",
    "import re\n",
    "from nltk.corpus import stopwords\n",
    "from nltk.stem.porter import PorterStemmer"
   ]
  },
  {
   "cell_type": "code",
   "execution_count": 2,
   "id": "48e7eaec-44bc-4a5d-8970-11ce466ba1b0",
   "metadata": {},
   "outputs": [
    {
     "data": {
      "text/html": [
       "<div>\n",
       "<style scoped>\n",
       "    .dataframe tbody tr th:only-of-type {\n",
       "        vertical-align: middle;\n",
       "    }\n",
       "\n",
       "    .dataframe tbody tr th {\n",
       "        vertical-align: top;\n",
       "    }\n",
       "\n",
       "    .dataframe thead th {\n",
       "        text-align: right;\n",
       "    }\n",
       "</style>\n",
       "<table border=\"1\" class=\"dataframe\">\n",
       "  <thead>\n",
       "    <tr style=\"text-align: right;\">\n",
       "      <th></th>\n",
       "      <th>id</th>\n",
       "      <th>label</th>\n",
       "      <th>tweet</th>\n",
       "    </tr>\n",
       "  </thead>\n",
       "  <tbody>\n",
       "    <tr>\n",
       "      <th>0</th>\n",
       "      <td>1</td>\n",
       "      <td>0</td>\n",
       "      <td>@user when a father is dysfunctional and is s...</td>\n",
       "    </tr>\n",
       "    <tr>\n",
       "      <th>1</th>\n",
       "      <td>2</td>\n",
       "      <td>0</td>\n",
       "      <td>@user @user thanks for #lyft credit i can't us...</td>\n",
       "    </tr>\n",
       "    <tr>\n",
       "      <th>2</th>\n",
       "      <td>3</td>\n",
       "      <td>0</td>\n",
       "      <td>bihday your majesty</td>\n",
       "    </tr>\n",
       "    <tr>\n",
       "      <th>3</th>\n",
       "      <td>4</td>\n",
       "      <td>0</td>\n",
       "      <td>#model   i love u take with u all the time in ...</td>\n",
       "    </tr>\n",
       "    <tr>\n",
       "      <th>4</th>\n",
       "      <td>5</td>\n",
       "      <td>0</td>\n",
       "      <td>factsguide: society now    #motivation</td>\n",
       "    </tr>\n",
       "  </tbody>\n",
       "</table>\n",
       "</div>"
      ],
      "text/plain": [
       "   id  label                                              tweet\n",
       "0   1      0   @user when a father is dysfunctional and is s...\n",
       "1   2      0  @user @user thanks for #lyft credit i can't us...\n",
       "2   3      0                                bihday your majesty\n",
       "3   4      0  #model   i love u take with u all the time in ...\n",
       "4   5      0             factsguide: society now    #motivation"
      ]
     },
     "execution_count": 2,
     "metadata": {},
     "output_type": "execute_result"
    }
   ],
   "source": [
    "data = pd.read_csv('train.csv')\n",
    "data.head()"
   ]
  },
  {
   "cell_type": "code",
   "execution_count": 4,
   "id": "524ac7d4-9000-4501-b695-566cf5e73a54",
   "metadata": {},
   "outputs": [
    {
     "data": {
      "text/plain": [
       "31962"
      ]
     },
     "execution_count": 4,
     "metadata": {},
     "output_type": "execute_result"
    }
   ],
   "source": [
    "len(data)"
   ]
  },
  {
   "cell_type": "code",
   "execution_count": 5,
   "id": "b79a0795-12bc-4eb9-8bfb-aa0ee3283800",
   "metadata": {},
   "outputs": [],
   "source": [
    "X = data['tweet']\n",
    "y = data['label']"
   ]
  },
  {
   "cell_type": "code",
   "execution_count": 6,
   "id": "1adfaeab-6500-41a9-8f93-1b488092892b",
   "metadata": {},
   "outputs": [
    {
     "name": "stdout",
     "output_type": "stream",
     "text": [
      "31961\r"
     ]
    }
   ],
   "source": [
    "ps = PorterStemmer()\n",
    "corpus = []\n",
    "for i in range(0, len(X)):\n",
    "    print(i,end = '\\r')\n",
    "    review = re.sub('[^a-zA-Z]', ' ', X[i])\n",
    "    review = review.lower()\n",
    "    review = review.split()\n",
    "    \n",
    "    review = [ps.stem(word) for word in review if not word in stopwords.words('english')]\n",
    "    review = ' '.join(review)\n",
    "    corpus.append(review)"
   ]
  },
  {
   "cell_type": "markdown",
   "id": "20b1009b-ba6c-4834-aa0d-530103a98e28",
   "metadata": {},
   "source": [
    "## Model Creation"
   ]
  },
  {
   "cell_type": "code",
   "execution_count": 8,
   "id": "e220aee0-c5b3-4661-9380-5827842605ce",
   "metadata": {},
   "outputs": [],
   "source": [
    "import tensorflow as tf\n",
    "from tensorflow.keras.layers import Embedding\n",
    "from tensorflow.keras.preprocessing.sequence import pad_sequences\n",
    "from tensorflow.keras.models import Sequential\n",
    "from tensorflow.keras.preprocessing.text import one_hot\n",
    "from tensorflow.keras.layers import LSTM\n",
    "from tensorflow.keras.layers import Dense\n",
    "from tensorflow.keras.layers import Dropout\n",
    "import numpy as np\n",
    "from sklearn.model_selection import train_test_split"
   ]
  },
  {
   "cell_type": "code",
   "execution_count": 9,
   "id": "371a446f-48ca-4ab8-9eb5-ee4bc78be47a",
   "metadata": {},
   "outputs": [],
   "source": [
    "def create_model(embedding_vector_features, sent_length):\n",
    "    model=Sequential()\n",
    "    model.add(Embedding(voc_size,embedding_vector_features,input_length=sent_length))\n",
    "    model.add(Dropout(0.5))\n",
    "    model.add(LSTM(100,return_sequences = True))\n",
    "    model.add(Dropout(0.5))\n",
    "    model.add(LSTM(256))\n",
    "    model.add(Dropout(0.5))\n",
    "    model.add(Dense(1,activation='sigmoid'))\n",
    "    model.compile(loss='binary_crossentropy',optimizer='adam',metrics=['accuracy'])\n",
    "    return model"
   ]
  },
  {
   "cell_type": "code",
   "execution_count": 13,
   "id": "48226735-3e3b-4f39-bfde-b513f9cfd901",
   "metadata": {},
   "outputs": [],
   "source": [
    "voc_size = 20000\n",
    "embedding_vector_features=64"
   ]
  },
  {
   "cell_type": "code",
   "execution_count": 14,
   "id": "8ec11f9f-7633-4ddd-abcb-48ee59a19ed6",
   "metadata": {},
   "outputs": [],
   "source": [
    "onehot_repr=[one_hot(word,voc_size)for word in corpus]"
   ]
  },
  {
   "cell_type": "code",
   "execution_count": 15,
   "id": "4987184c-f735-4076-9a27-e514ae8cfd0a",
   "metadata": {},
   "outputs": [
    {
     "name": "stdout",
     "output_type": "stream",
     "text": [
      "[[    0     0     0 ... 18818 17650 10200]\n",
      " [    0     0     0 ... 17845 14990 12195]\n",
      " [    0     0     0 ...     0 17577  8343]\n",
      " ...\n",
      " [    0     0     0 ... 18738 15165  3832]\n",
      " [    0     0     0 ...  4179  6656 14214]\n",
      " [    0     0     0 ...  8763 15097  2139]]\n"
     ]
    }
   ],
   "source": [
    "sent_length=25\n",
    "embedded_docs=pad_sequences(onehot_repr,padding='pre',maxlen=sent_length)\n",
    "print(embedded_docs)"
   ]
  },
  {
   "cell_type": "code",
   "execution_count": 16,
   "id": "2e703aa4-7cad-4bf4-9cc2-32e20af40e33",
   "metadata": {},
   "outputs": [
    {
     "data": {
      "text/plain": [
       "(31962, (31962,))"
      ]
     },
     "execution_count": 16,
     "metadata": {},
     "output_type": "execute_result"
    }
   ],
   "source": [
    "len(embedded_docs),y.shape"
   ]
  },
  {
   "cell_type": "code",
   "execution_count": 17,
   "id": "86f57e06-3348-4c1b-a7b0-f44676d01692",
   "metadata": {},
   "outputs": [],
   "source": [
    "X_final=np.array(embedded_docs)\n",
    "y_final=np.array(y)"
   ]
  },
  {
   "cell_type": "code",
   "execution_count": 18,
   "id": "174dfcb3-3252-4d73-8a91-edaf0d8601b0",
   "metadata": {},
   "outputs": [
    {
     "data": {
      "text/plain": [
       "((31962, 25), (31962,))"
      ]
     },
     "execution_count": 18,
     "metadata": {},
     "output_type": "execute_result"
    }
   ],
   "source": [
    "X_final.shape,y_final.shape"
   ]
  },
  {
   "cell_type": "code",
   "execution_count": 19,
   "id": "bae69b7e-7439-4aac-9df9-89c17fe279db",
   "metadata": {},
   "outputs": [],
   "source": [
    "X_train, X_test, y_train, y_test = train_test_split(X_final, y_final, stratify = y_final, test_size=0.25, random_state=42)"
   ]
  },
  {
   "cell_type": "code",
   "execution_count": 20,
   "id": "fb711df8-a418-4190-8198-7b2c620a50a2",
   "metadata": {},
   "outputs": [],
   "source": [
    "model = create_model(embedding_vector_features, sent_length)"
   ]
  },
  {
   "cell_type": "code",
   "execution_count": 21,
   "id": "91a3d868-ba3b-409d-9199-3bc5229ae275",
   "metadata": {},
   "outputs": [
    {
     "name": "stdout",
     "output_type": "stream",
     "text": [
      "Model: \"sequential\"\n",
      "_________________________________________________________________\n",
      " Layer (type)                Output Shape              Param #   \n",
      "=================================================================\n",
      " embedding (Embedding)       (None, 25, 64)            1280000   \n",
      "                                                                 \n",
      " dropout (Dropout)           (None, 25, 64)            0         \n",
      "                                                                 \n",
      " lstm (LSTM)                 (None, 25, 100)           66000     \n",
      "                                                                 \n",
      " dropout_1 (Dropout)         (None, 25, 100)           0         \n",
      "                                                                 \n",
      " lstm_1 (LSTM)               (None, 256)               365568    \n",
      "                                                                 \n",
      " dropout_2 (Dropout)         (None, 256)               0         \n",
      "                                                                 \n",
      " dense (Dense)               (None, 1)                 257       \n",
      "                                                                 \n",
      "=================================================================\n",
      "Total params: 1,711,825\n",
      "Trainable params: 1,711,825\n",
      "Non-trainable params: 0\n",
      "_________________________________________________________________\n"
     ]
    }
   ],
   "source": [
    "model.summary()"
   ]
  },
  {
   "cell_type": "code",
   "execution_count": 22,
   "id": "438f2e3b-d4e8-42bd-83eb-58d77c416bfc",
   "metadata": {},
   "outputs": [
    {
     "name": "stdout",
     "output_type": "stream",
     "text": [
      "Epoch 1/15\n",
      "24/24 [==============================] - 27s 196ms/step - loss: 0.3469 - accuracy: 0.9118 - val_loss: 0.2563 - val_accuracy: 0.9298\n",
      "Epoch 2/15\n",
      "24/24 [==============================] - 2s 93ms/step - loss: 0.2503 - accuracy: 0.9299 - val_loss: 0.2424 - val_accuracy: 0.9298\n",
      "Epoch 3/15\n",
      "24/24 [==============================] - 2s 68ms/step - loss: 0.2172 - accuracy: 0.9306 - val_loss: 0.1826 - val_accuracy: 0.9312\n",
      "Epoch 4/15\n",
      "24/24 [==============================] - 2s 63ms/step - loss: 0.1297 - accuracy: 0.9540 - val_loss: 0.1371 - val_accuracy: 0.9519\n",
      "Epoch 5/15\n",
      "24/24 [==============================] - 1s 63ms/step - loss: 0.0900 - accuracy: 0.9673 - val_loss: 0.1334 - val_accuracy: 0.9566\n",
      "Epoch 6/15\n",
      "24/24 [==============================] - 1s 63ms/step - loss: 0.0673 - accuracy: 0.9761 - val_loss: 0.1453 - val_accuracy: 0.9581\n",
      "Epoch 7/15\n",
      "24/24 [==============================] - 2s 63ms/step - loss: 0.0538 - accuracy: 0.9820 - val_loss: 0.1484 - val_accuracy: 0.9567\n",
      "Epoch 8/15\n",
      "24/24 [==============================] - 1s 62ms/step - loss: 0.0450 - accuracy: 0.9851 - val_loss: 0.1745 - val_accuracy: 0.9547\n",
      "Epoch 9/15\n",
      "24/24 [==============================] - 1s 62ms/step - loss: 0.0371 - accuracy: 0.9882 - val_loss: 0.1842 - val_accuracy: 0.9556\n",
      "Epoch 10/15\n",
      "24/24 [==============================] - 1s 62ms/step - loss: 0.0307 - accuracy: 0.9904 - val_loss: 0.2099 - val_accuracy: 0.9561\n",
      "Epoch 11/15\n",
      "24/24 [==============================] - 2s 63ms/step - loss: 0.0254 - accuracy: 0.9918 - val_loss: 0.2057 - val_accuracy: 0.9539\n",
      "Epoch 12/15\n",
      "24/24 [==============================] - 1s 62ms/step - loss: 0.0229 - accuracy: 0.9927 - val_loss: 0.2165 - val_accuracy: 0.9527\n",
      "Epoch 13/15\n",
      "24/24 [==============================] - 1s 62ms/step - loss: 0.0202 - accuracy: 0.9938 - val_loss: 0.2311 - val_accuracy: 0.9549\n",
      "Epoch 14/15\n",
      "24/24 [==============================] - 1s 62ms/step - loss: 0.0167 - accuracy: 0.9942 - val_loss: 0.2570 - val_accuracy: 0.9526\n",
      "Epoch 15/15\n",
      "24/24 [==============================] - 1s 62ms/step - loss: 0.0173 - accuracy: 0.9943 - val_loss: 0.2627 - val_accuracy: 0.9503\n"
     ]
    },
    {
     "data": {
      "text/plain": [
       "<keras.callbacks.History at 0x206ae791fa0>"
      ]
     },
     "execution_count": 22,
     "metadata": {},
     "output_type": "execute_result"
    }
   ],
   "source": [
    "model.fit(X_train,y_train,validation_data=(X_test,y_test),epochs=15,batch_size=1000)"
   ]
  },
  {
   "cell_type": "markdown",
   "id": "6a5d48ec-f79d-4411-899d-84dd4f3ea4e6",
   "metadata": {},
   "source": [
    "## Performance Testing"
   ]
  },
  {
   "cell_type": "code",
   "execution_count": 23,
   "id": "4a2b8521-f535-4c3c-baea-b7427eb00dcd",
   "metadata": {},
   "outputs": [],
   "source": [
    "from sklearn.metrics import confusion_matrix\n",
    "from sklearn.metrics import ConfusionMatrixDisplay\n",
    "import matplotlib.pyplot as plt\n",
    "from sklearn.metrics import accuracy_score"
   ]
  },
  {
   "cell_type": "code",
   "execution_count": 24,
   "id": "4cfc8114-6f08-4ada-8337-6ea4704f2095",
   "metadata": {},
   "outputs": [
    {
     "name": "stdout",
     "output_type": "stream",
     "text": [
      "250/250 [==============================] - 2s 7ms/step\n"
     ]
    }
   ],
   "source": [
    "y_pred=model.predict(X_test)"
   ]
  },
  {
   "cell_type": "code",
   "execution_count": 43,
   "id": "67b47942-4863-4944-a37b-5be02260cf55",
   "metadata": {},
   "outputs": [],
   "source": [
    "y_ = [1 if x>0.7 else 0 for x in y_pred]"
   ]
  },
  {
   "cell_type": "code",
   "execution_count": 44,
   "id": "21d6cd32-3d45-4b49-b9a7-8c251368ee18",
   "metadata": {},
   "outputs": [
    {
     "data": {
      "text/plain": [
       "array([[7302,  128],\n",
       "       [ 240,  321]], dtype=int64)"
      ]
     },
     "execution_count": 44,
     "metadata": {},
     "output_type": "execute_result"
    }
   ],
   "source": [
    "cm = confusion_matrix(y_test,y_)\n",
    "cm"
   ]
  },
  {
   "cell_type": "code",
   "execution_count": 45,
   "id": "3fc8af25-d364-4030-9832-c93ae53ee9d2",
   "metadata": {},
   "outputs": [
    {
     "data": {
      "image/png": "[encoded data removed]",
      "text/plain": [
       "<Figure size 640x480 with 2 Axes>"
      ]
     },
     "metadata": {},
     "output_type": "display_data"
    }
   ],
   "source": [
    "cm_display = ConfusionMatrixDisplay(confusion_matrix = cm, display_labels = [False, True])\n",
    "cm_display.plot()\n",
    "plt.show()"
   ]
  },
  {
   "cell_type": "code",
   "execution_count": 46,
   "id": "96d2b2d8-bf84-4123-8163-b883c95b794a",
   "metadata": {},
   "outputs": [
    {
     "data": {
      "text/plain": [
       "0.9539481917156801"
      ]
     },
     "execution_count": 46,
     "metadata": {},
     "output_type": "execute_result"
    }
   ],
   "source": [
    "accuracy_score(y_test,y_)"
   ]
  },
  {
   "cell_type": "markdown",
   "id": "4e10944e-4daf-4104-bb59-5584d26788e2",
   "metadata": {},
   "source": [
    "## Saving Model"
   ]
  },
  {
   "cell_type": "code",
   "execution_count": 47,
   "id": "9f35fde6-84b8-4f54-bb67-1c15c9c821a2",
   "metadata": {},
   "outputs": [],
   "source": [
    "model.save('final_model.h5')"
   ]
  },
  {
   "cell_type": "markdown",
   "id": "886ac8f9-0dbf-45ad-b092-47e17775cb01",
   "metadata": {},
   "source": [
    "## Creating output for Test dataset"
   ]
  },
  {
   "cell_type": "code",
   "execution_count": 52,
   "id": "3cee83cd-238a-4555-81c3-f5b2cbfcfd23",
   "metadata": {},
   "outputs": [],
   "source": [
    "data = pd.read_csv('test.csv')"
   ]
  },
  {
   "cell_type": "code",
   "execution_count": 53,
   "id": "61c41a0e-9d9e-4678-8eb1-89c210520e2f",
   "metadata": {},
   "outputs": [
    {
     "data": {
      "text/html": [
       "<div>\n",
       "<style scoped>\n",
       "    .dataframe tbody tr th:only-of-type {\n",
       "        vertical-align: middle;\n",
       "    }\n",
       "\n",
       "    .dataframe tbody tr th {\n",
       "        vertical-align: top;\n",
       "    }\n",
       "\n",
       "    .dataframe thead th {\n",
       "        text-align: right;\n",
       "    }\n",
       "</style>\n",
       "<table border=\"1\" class=\"dataframe\">\n",
       "  <thead>\n",
       "    <tr style=\"text-align: right;\">\n",
       "      <th></th>\n",
       "      <th>id</th>\n",
       "      <th>tweet</th>\n",
       "    </tr>\n",
       "  </thead>\n",
       "  <tbody>\n",
       "    <tr>\n",
       "      <th>0</th>\n",
       "      <td>31963</td>\n",
       "      <td>#studiolife #aislife #requires #passion #dedic...</td>\n",
       "    </tr>\n",
       "    <tr>\n",
       "      <th>1</th>\n",
       "      <td>31964</td>\n",
       "      <td>@user #white #supremacists want everyone to s...</td>\n",
       "    </tr>\n",
       "    <tr>\n",
       "      <th>2</th>\n",
       "      <td>31965</td>\n",
       "      <td>safe ways to heal your #acne!!    #altwaystohe...</td>\n",
       "    </tr>\n",
       "    <tr>\n",
       "      <th>3</th>\n",
       "      <td>31966</td>\n",
       "      <td>is the hp and the cursed child book up for res...</td>\n",
       "    </tr>\n",
       "    <tr>\n",
       "      <th>4</th>\n",
       "      <td>31967</td>\n",
       "      <td>3rd #bihday to my amazing, hilarious #nephew...</td>\n",
       "    </tr>\n",
       "  </tbody>\n",
       "</table>\n",
       "</div>"
      ],
      "text/plain": [
       "      id                                              tweet\n",
       "0  31963  #studiolife #aislife #requires #passion #dedic...\n",
       "1  31964   @user #white #supremacists want everyone to s...\n",
       "2  31965  safe ways to heal your #acne!!    #altwaystohe...\n",
       "3  31966  is the hp and the cursed child book up for res...\n",
       "4  31967    3rd #bihday to my amazing, hilarious #nephew..."
      ]
     },
     "execution_count": 53,
     "metadata": {},
     "output_type": "execute_result"
    }
   ],
   "source": [
    "data.head()"
   ]
  },
  {
   "cell_type": "code",
   "execution_count": 54,
   "id": "2d75ecca-9841-44bd-bd0b-2f5d3029007b",
   "metadata": {},
   "outputs": [
    {
     "data": {
      "text/plain": [
       "0    #studiolife #aislife #requires #passion #dedic...\n",
       "1     @user #white #supremacists want everyone to s...\n",
       "2    safe ways to heal your #acne!!    #altwaystohe...\n",
       "3    is the hp and the cursed child book up for res...\n",
       "4      3rd #bihday to my amazing, hilarious #nephew...\n",
       "Name: tweet, dtype: object"
      ]
     },
     "execution_count": 54,
     "metadata": {},
     "output_type": "execute_result"
    }
   ],
   "source": [
    "data = data['tweet']\n",
    "data.head()"
   ]
  },
  {
   "cell_type": "code",
   "execution_count": 55,
   "id": "8ea5c83a-fcbe-40fe-ba46-4a0ef6d5fa50",
   "metadata": {},
   "outputs": [
    {
     "name": "stdout",
     "output_type": "stream",
     "text": [
      "17196\r"
     ]
    }
   ],
   "source": [
    "ps = PorterStemmer()\n",
    "corpus = []\n",
    "for i in range(0, len(data)):\n",
    "    print(i,end = '\\r')\n",
    "    review = re.sub('[^a-zA-Z]', ' ', data[i])\n",
    "    review = review.lower()\n",
    "    review = review.split()\n",
    "    \n",
    "    review = [ps.stem(word) for word in review if not word in stopwords.words('english')]\n",
    "    review = ' '.join(review)\n",
    "    corpus.append(review)"
   ]
  },
  {
   "cell_type": "code",
   "execution_count": 56,
   "id": "306d8f33-1dd3-4eec-a898-c770486a9113",
   "metadata": {},
   "outputs": [
    {
     "name": "stdout",
     "output_type": "stream",
     "text": [
      "[[    0     0     0 ... 17236 16065 13805]\n",
      " [    0     0     0 ...  6557  2075 13784]\n",
      " [    0     0     0 ...  4488 12333 11671]\n",
      " ...\n",
      " [    0     0     0 ... 17278  3467 10595]\n",
      " [    0     0     0 ... 15800 15165  2340]\n",
      " [    0     0     0 ...  4335 13368  7565]]\n"
     ]
    }
   ],
   "source": [
    "onehot_repr=[one_hot(word,voc_size)for word in corpus]\n",
    "embedded_docs=pad_sequences(onehot_repr,padding='pre',maxlen=sent_length)\n",
    "print(embedded_docs)"
   ]
  },
  {
   "cell_type": "code",
   "execution_count": 57,
   "id": "1a1a1059-c083-4e42-b7f5-14eab0c1f90b",
   "metadata": {},
   "outputs": [],
   "source": [
    "X_final=np.array(embedded_docs)"
   ]
  },
  {
   "cell_type": "code",
   "execution_count": 58,
   "id": "c91de654-9472-474a-9288-d15977a718fc",
   "metadata": {},
   "outputs": [],
   "source": [
    "import keras"
   ]
  },
  {
   "cell_type": "code",
   "execution_count": 59,
   "id": "16254f87-9678-4c7c-92e7-9334fff7202c",
   "metadata": {},
   "outputs": [],
   "source": [
    "loaded_model = keras.models.load_model('final_model.h5')"
   ]
  },
  {
   "cell_type": "code",
   "execution_count": 60,
   "id": "fed56633-e211-4b2e-a9ae-d5c4aabd4636",
   "metadata": {},
   "outputs": [
    {
     "name": "stdout",
     "output_type": "stream",
     "text": [
      "Model: \"sequential\"\n",
      "_________________________________________________________________\n",
      " Layer (type)                Output Shape              Param #   \n",
      "=================================================================\n",
      " embedding (Embedding)       (None, 25, 64)            1280000   \n",
      "                                                                 \n",
      " dropout (Dropout)           (None, 25, 64)            0         \n",
      "                                                                 \n",
      " lstm (LSTM)                 (None, 25, 100)           66000     \n",
      "                                                                 \n",
      " dropout_1 (Dropout)         (None, 25, 100)           0         \n",
      "                                                                 \n",
      " lstm_1 (LSTM)               (None, 256)               365568    \n",
      "                                                                 \n",
      " dropout_2 (Dropout)         (None, 256)               0         \n",
      "                                                                 \n",
      " dense (Dense)               (None, 1)                 257       \n",
      "                                                                 \n",
      "=================================================================\n",
      "Total params: 1,711,825\n",
      "Trainable params: 1,711,825\n",
      "Non-trainable params: 0\n",
      "_________________________________________________________________\n"
     ]
    }
   ],
   "source": [
    "loaded_model.summary()"
   ]
  },
  {
   "cell_type": "code",
   "execution_count": 61,
   "id": "0ad8db70-2aa0-41c2-ba14-bc35b9ab9a43",
   "metadata": {},
   "outputs": [
    {
     "name": "stdout",
     "output_type": "stream",
     "text": [
      "538/538 [==============================] - 4s 6ms/step\n"
     ]
    }
   ],
   "source": [
    "y_pred=loaded_model.predict(X_final)"
   ]
  },
  {
   "cell_type": "code",
   "execution_count": 62,
   "id": "39a289ae-b4c2-41a6-b2c2-74645c4ef7a6",
   "metadata": {},
   "outputs": [],
   "source": [
    "y_p = [1 if x>0.7 else 0 for x in y_pred]"
   ]
  },
  {
   "cell_type": "code",
   "execution_count": 63,
   "id": "de361e61-e857-43cf-8c0e-ebebb6416be9",
   "metadata": {},
   "outputs": [],
   "source": [
    "Y = pd.DataFrame(y_p, columns = ['Predicted Value'])"
   ]
  },
  {
   "cell_type": "code",
   "execution_count": 64,
   "id": "bad28bac-dfb2-46bd-883f-6e8ffa89be7f",
   "metadata": {},
   "outputs": [],
   "source": [
    "output = pd.DataFrame(data.values,columns = ['Tweet'])"
   ]
  },
  {
   "cell_type": "code",
   "execution_count": 65,
   "id": "b5ae0f7c-5b14-4070-8033-0f1eb2684400",
   "metadata": {},
   "outputs": [],
   "source": [
    "output = output.join(Y)"
   ]
  },
  {
   "cell_type": "code",
   "execution_count": 66,
   "id": "de080957-a84b-47e3-b134-a8fee0c76ddf",
   "metadata": {},
   "outputs": [
    {
     "data": {
      "text/html": [
       "<div>\n",
       "<style scoped>\n",
       "    .dataframe tbody tr th:only-of-type {\n",
       "        vertical-align: middle;\n",
       "    }\n",
       "\n",
       "    .dataframe tbody tr th {\n",
       "        vertical-align: top;\n",
       "    }\n",
       "\n",
       "    .dataframe thead th {\n",
       "        text-align: right;\n",
       "    }\n",
       "</style>\n",
       "<table border=\"1\" class=\"dataframe\">\n",
       "  <thead>\n",
       "    <tr style=\"text-align: right;\">\n",
       "      <th></th>\n",
       "      <th>Tweet</th>\n",
       "      <th>Predicted Value</th>\n",
       "    </tr>\n",
       "  </thead>\n",
       "  <tbody>\n",
       "    <tr>\n",
       "      <th>0</th>\n",
       "      <td>#studiolife #aislife #requires #passion #dedic...</td>\n",
       "      <td>0</td>\n",
       "    </tr>\n",
       "    <tr>\n",
       "      <th>1</th>\n",
       "      <td>@user #white #supremacists want everyone to s...</td>\n",
       "      <td>1</td>\n",
       "    </tr>\n",
       "    <tr>\n",
       "      <th>2</th>\n",
       "      <td>safe ways to heal your #acne!!    #altwaystohe...</td>\n",
       "      <td>0</td>\n",
       "    </tr>\n",
       "    <tr>\n",
       "      <th>3</th>\n",
       "      <td>is the hp and the cursed child book up for res...</td>\n",
       "      <td>0</td>\n",
       "    </tr>\n",
       "    <tr>\n",
       "      <th>4</th>\n",
       "      <td>3rd #bihday to my amazing, hilarious #nephew...</td>\n",
       "      <td>0</td>\n",
       "    </tr>\n",
       "  </tbody>\n",
       "</table>\n",
       "</div>"
      ],
      "text/plain": [
       "                                               Tweet  Predicted Value\n",
       "0  #studiolife #aislife #requires #passion #dedic...                0\n",
       "1   @user #white #supremacists want everyone to s...                1\n",
       "2  safe ways to heal your #acne!!    #altwaystohe...                0\n",
       "3  is the hp and the cursed child book up for res...                0\n",
       "4    3rd #bihday to my amazing, hilarious #nephew...                0"
      ]
     },
     "execution_count": 66,
     "metadata": {},
     "output_type": "execute_result"
    }
   ],
   "source": [
    "output.head()"
   ]
  },
  {
   "cell_type": "code",
   "execution_count": 67,
   "id": "463a3218-2da9-46b9-b9fc-5db15a6c77e5",
   "metadata": {},
   "outputs": [],
   "source": [
    "output.to_csv('Gaurav.csv')"
   ]
  },
  {
   "cell_type": "code",
   "execution_count": null,
   "id": "c0010aae-90cb-4378-b828-b023d8c3bbb2",
   "metadata": {},
   "outputs": [],
   "source": []
  }
 ],
 "metadata": {
  "kernelspec": {
   "display_name": "nlpvenv",
   "language": "python",
   "name": "nlpvenv"
  },
  "language_info": {
   "codemirror_mode": {
    "name": "ipython",
    "version": 3
   },
   "file_extension": ".py",
   "mimetype": "text/x-python",
   "name": "python",
   "nbconvert_exporter": "python",
   "pygments_lexer": "ipython3",
   "version": "3.9.13"
  }
 },
 "nbformat": 4,
 "nbformat_minor": 5
}
