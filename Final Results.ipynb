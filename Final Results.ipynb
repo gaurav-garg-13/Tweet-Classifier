{
 "cells": [
  {
   "cell_type": "code",
   "execution_count": 13,
   "id": "0729b8df-ad05-408a-8bf9-9c5fe7ac2294",
   "metadata": {},
   "outputs": [],
   "source": [
    "import pandas as pd\n",
    "import nltk\n",
    "import re\n",
    "from nltk.corpus import stopwords\n",
    "from nltk.stem.porter import PorterStemmer\n",
    "import numpy as np"
   ]
  },
  {
   "cell_type": "code",
   "execution_count": 3,
   "id": "a8af2b8c-a559-4632-8d5f-760396cedb34",
   "metadata": {},
   "outputs": [],
   "source": [
    "data = pd.read_csv('test.csv')"
   ]
  },
  {
   "cell_type": "code",
   "execution_count": 4,
   "id": "c9a3977b-9f62-4a4d-a045-36677ea26960",
   "metadata": {},
   "outputs": [
    {
     "data": {
      "text/html": [
       "<div>\n",
       "<style scoped>\n",
       "    .dataframe tbody tr th:only-of-type {\n",
       "        vertical-align: middle;\n",
       "    }\n",
       "\n",
       "    .dataframe tbody tr th {\n",
       "        vertical-align: top;\n",
       "    }\n",
       "\n",
       "    .dataframe thead th {\n",
       "        text-align: right;\n",
       "    }\n",
       "</style>\n",
       "<table border=\"1\" class=\"dataframe\">\n",
       "  <thead>\n",
       "    <tr style=\"text-align: right;\">\n",
       "      <th></th>\n",
       "      <th>id</th>\n",
       "      <th>tweet</th>\n",
       "    </tr>\n",
       "  </thead>\n",
       "  <tbody>\n",
       "    <tr>\n",
       "      <th>0</th>\n",
       "      <td>31963</td>\n",
       "      <td>#studiolife #aislife #requires #passion #dedic...</td>\n",
       "    </tr>\n",
       "    <tr>\n",
       "      <th>1</th>\n",
       "      <td>31964</td>\n",
       "      <td>@user #white #supremacists want everyone to s...</td>\n",
       "    </tr>\n",
       "    <tr>\n",
       "      <th>2</th>\n",
       "      <td>31965</td>\n",
       "      <td>safe ways to heal your #acne!!    #altwaystohe...</td>\n",
       "    </tr>\n",
       "    <tr>\n",
       "      <th>3</th>\n",
       "      <td>31966</td>\n",
       "      <td>is the hp and the cursed child book up for res...</td>\n",
       "    </tr>\n",
       "    <tr>\n",
       "      <th>4</th>\n",
       "      <td>31967</td>\n",
       "      <td>3rd #bihday to my amazing, hilarious #nephew...</td>\n",
       "    </tr>\n",
       "  </tbody>\n",
       "</table>\n",
       "</div>"
      ],
      "text/plain": [
       "      id                                              tweet\n",
       "0  31963  #studiolife #aislife #requires #passion #dedic...\n",
       "1  31964   @user #white #supremacists want everyone to s...\n",
       "2  31965  safe ways to heal your #acne!!    #altwaystohe...\n",
       "3  31966  is the hp and the cursed child book up for res...\n",
       "4  31967    3rd #bihday to my amazing, hilarious #nephew..."
      ]
     },
     "execution_count": 4,
     "metadata": {},
     "output_type": "execute_result"
    }
   ],
   "source": [
    "data.head()"
   ]
  },
  {
   "cell_type": "code",
   "execution_count": 5,
   "id": "b2847046-ecde-4741-adcf-bfb6704dc9d0",
   "metadata": {},
   "outputs": [],
   "source": [
    "data = data['tweet']"
   ]
  },
  {
   "cell_type": "code",
   "execution_count": 6,
   "id": "3e2fcb3d-b077-4a37-81e6-69a8726c49e3",
   "metadata": {},
   "outputs": [
    {
     "data": {
      "text/plain": [
       "0    #studiolife #aislife #requires #passion #dedic...\n",
       "1     @user #white #supremacists want everyone to s...\n",
       "2    safe ways to heal your #acne!!    #altwaystohe...\n",
       "3    is the hp and the cursed child book up for res...\n",
       "4      3rd #bihday to my amazing, hilarious #nephew...\n",
       "Name: tweet, dtype: object"
      ]
     },
     "execution_count": 6,
     "metadata": {},
     "output_type": "execute_result"
    }
   ],
   "source": [
    "data.head()"
   ]
  },
  {
   "cell_type": "code",
   "execution_count": 8,
   "id": "59283bd1-9126-4f4c-a47d-9c766827b3a4",
   "metadata": {},
   "outputs": [
    {
     "name": "stdout",
     "output_type": "stream",
     "text": [
      "17196\r"
     ]
    }
   ],
   "source": [
    "ps = PorterStemmer()\n",
    "corpus = []\n",
    "for i in range(0, len(data)):\n",
    "    print(i,end = '\\r')\n",
    "    review = re.sub('[^a-zA-Z]', ' ', data[i])\n",
    "    review = review.lower()\n",
    "    review = review.split()\n",
    "    \n",
    "    review = [ps.stem(word) for word in review if not word in stopwords.words('english')]\n",
    "    review = ' '.join(review)\n",
    "    corpus.append(review)"
   ]
  },
  {
   "cell_type": "code",
   "execution_count": 9,
   "id": "bbb8e7aa-3155-4fc9-80a3-258fced0fa16",
   "metadata": {},
   "outputs": [],
   "source": [
    "from tensorflow.keras.preprocessing.text import one_hot\n",
    "from tensorflow.keras.preprocessing.sequence import pad_sequences"
   ]
  },
  {
   "cell_type": "code",
   "execution_count": 11,
   "id": "0f3cfec9-9b97-4b9c-856f-3b7cb43ee5ad",
   "metadata": {},
   "outputs": [
    {
     "name": "stdout",
     "output_type": "stream",
     "text": [
      "[[     0      0      0 ... 206424 482606 344323]\n",
      " [     0      0      0 ... 443281 205966 480341]\n",
      " [     0      0      0 ... 498181 495672  20568]\n",
      " ...\n",
      " [     0      0      0 ... 301131  72865  81416]\n",
      " [     0      0      0 ... 365164 432535 186423]\n",
      " [     0      0      0 ... 192771 434973 168290]]\n"
     ]
    }
   ],
   "source": [
    "voc_size = 500000\n",
    "onehot_repr=[one_hot(word,voc_size)for word in corpus]\n",
    "sent_length=25\n",
    "embedded_docs=pad_sequences(onehot_repr,padding='pre',maxlen=sent_length)\n",
    "print(embedded_docs)"
   ]
  },
  {
   "cell_type": "code",
   "execution_count": 14,
   "id": "0c21a55c-d7be-46cb-9c82-8b09f1c13fae",
   "metadata": {},
   "outputs": [],
   "source": [
    "X_final=np.array(embedded_docs)"
   ]
  },
  {
   "cell_type": "code",
   "execution_count": 17,
   "id": "e2edea37-ef06-4714-83aa-5e5580854adb",
   "metadata": {},
   "outputs": [],
   "source": [
    "import keras"
   ]
  },
  {
   "cell_type": "code",
   "execution_count": 19,
   "id": "34700875-7214-4960-a7d4-2c9384fff12b",
   "metadata": {},
   "outputs": [],
   "source": [
    "loaded_model = keras.models.load_model('finalized_model.h5')"
   ]
  },
  {
   "cell_type": "code",
   "execution_count": 20,
   "id": "df661109-b96d-4f06-9070-3f71fa5c8022",
   "metadata": {},
   "outputs": [
    {
     "name": "stdout",
     "output_type": "stream",
     "text": [
      "Model: \"sequential_2\"\n",
      "_________________________________________________________________\n",
      " Layer (type)                Output Shape              Param #   \n",
      "=================================================================\n",
      " embedding_2 (Embedding)     (None, 25, 64)            32000000  \n",
      "                                                                 \n",
      " dropout_6 (Dropout)         (None, 25, 64)            0         \n",
      "                                                                 \n",
      " lstm_4 (LSTM)               (None, 25, 100)           66000     \n",
      "                                                                 \n",
      " dropout_7 (Dropout)         (None, 25, 100)           0         \n",
      "                                                                 \n",
      " lstm_5 (LSTM)               (None, 256)               365568    \n",
      "                                                                 \n",
      " dropout_8 (Dropout)         (None, 256)               0         \n",
      "                                                                 \n",
      " dense_2 (Dense)             (None, 1)                 257       \n",
      "                                                                 \n",
      "=================================================================\n",
      "Total params: 32,431,825\n",
      "Trainable params: 32,431,825\n",
      "Non-trainable params: 0\n",
      "_________________________________________________________________\n"
     ]
    }
   ],
   "source": [
    "loaded_model.summary()"
   ]
  },
  {
   "cell_type": "code",
   "execution_count": 48,
   "id": "70798ed8-5b8d-401c-ac4a-3a1dfdf1d8d3",
   "metadata": {},
   "outputs": [
    {
     "name": "stdout",
     "output_type": "stream",
     "text": [
      "538/538 [==============================] - 3s 6ms/step\n"
     ]
    }
   ],
   "source": [
    "y_pred=loaded_model.predict(X_final)"
   ]
  },
  {
   "cell_type": "code",
   "execution_count": 69,
   "id": "e9e6135c-80d9-4dec-afbf-a7f1277b40dd",
   "metadata": {},
   "outputs": [],
   "source": [
    "y_p = [1 if x>0.9 else 0 for x in y_pred]"
   ]
  },
  {
   "cell_type": "code",
   "execution_count": 70,
   "id": "ebc3ce51-cac0-4792-abfb-3b0193834a8e",
   "metadata": {},
   "outputs": [],
   "source": [
    "Y = pd.DataFrame(y_p, columns = ['Predicted Value'])"
   ]
  },
  {
   "cell_type": "code",
   "execution_count": 71,
   "id": "143b46a5-bc57-46bd-9abe-8c43e7872d46",
   "metadata": {},
   "outputs": [],
   "source": [
    "output = pd.DataFrame(data.values,columns = ['Tweet'])"
   ]
  },
  {
   "cell_type": "code",
   "execution_count": 72,
   "id": "051d50d1-1567-4e35-8998-4b8b207fee02",
   "metadata": {},
   "outputs": [],
   "source": [
    "output = output.join(Y)"
   ]
  },
  {
   "cell_type": "code",
   "execution_count": 73,
   "id": "3b649d8e-9253-4ddd-9e86-2ca5de400686",
   "metadata": {},
   "outputs": [
    {
     "data": {
      "text/html": [
       "<div>\n",
       "<style scoped>\n",
       "    .dataframe tbody tr th:only-of-type {\n",
       "        vertical-align: middle;\n",
       "    }\n",
       "\n",
       "    .dataframe tbody tr th {\n",
       "        vertical-align: top;\n",
       "    }\n",
       "\n",
       "    .dataframe thead th {\n",
       "        text-align: right;\n",
       "    }\n",
       "</style>\n",
       "<table border=\"1\" class=\"dataframe\">\n",
       "  <thead>\n",
       "    <tr style=\"text-align: right;\">\n",
       "      <th></th>\n",
       "      <th>Tweet</th>\n",
       "      <th>Predicted Value</th>\n",
       "    </tr>\n",
       "  </thead>\n",
       "  <tbody>\n",
       "    <tr>\n",
       "      <th>0</th>\n",
       "      <td>#studiolife #aislife #requires #passion #dedic...</td>\n",
       "      <td>0</td>\n",
       "    </tr>\n",
       "    <tr>\n",
       "      <th>1</th>\n",
       "      <td>@user #white #supremacists want everyone to s...</td>\n",
       "      <td>0</td>\n",
       "    </tr>\n",
       "    <tr>\n",
       "      <th>2</th>\n",
       "      <td>safe ways to heal your #acne!!    #altwaystohe...</td>\n",
       "      <td>0</td>\n",
       "    </tr>\n",
       "    <tr>\n",
       "      <th>3</th>\n",
       "      <td>is the hp and the cursed child book up for res...</td>\n",
       "      <td>1</td>\n",
       "    </tr>\n",
       "    <tr>\n",
       "      <th>4</th>\n",
       "      <td>3rd #bihday to my amazing, hilarious #nephew...</td>\n",
       "      <td>0</td>\n",
       "    </tr>\n",
       "  </tbody>\n",
       "</table>\n",
       "</div>"
      ],
      "text/plain": [
       "                                               Tweet  Predicted Value\n",
       "0  #studiolife #aislife #requires #passion #dedic...                0\n",
       "1   @user #white #supremacists want everyone to s...                0\n",
       "2  safe ways to heal your #acne!!    #altwaystohe...                0\n",
       "3  is the hp and the cursed child book up for res...                1\n",
       "4    3rd #bihday to my amazing, hilarious #nephew...                0"
      ]
     },
     "execution_count": 73,
     "metadata": {},
     "output_type": "execute_result"
    }
   ],
   "source": [
    "output.head()"
   ]
  },
  {
   "cell_type": "code",
   "execution_count": 74,
   "id": "08483fc3-d673-45d6-916c-71f22d73e04f",
   "metadata": {},
   "outputs": [],
   "source": [
    "output.to_csv('Test_data_outputs.csv')"
   ]
  },
  {
   "cell_type": "code",
   "execution_count": null,
   "id": "fa7450f4-16fa-48d9-9c31-c1b8b5b55bd4",
   "metadata": {},
   "outputs": [],
   "source": []
  }
 ],
 "metadata": {
  "kernelspec": {
   "display_name": "nlpvenv",
   "language": "python",
   "name": "nlpvenv"
  },
  "language_info": {
   "codemirror_mode": {
    "name": "ipython",
    "version": 3
   },
   "file_extension": ".py",
   "mimetype": "text/x-python",
   "name": "python",
   "nbconvert_exporter": "python",
   "pygments_lexer": "ipython3",
   "version": "3.9.13"
  }
 },
 "nbformat": 4,
 "nbformat_minor": 5
}
